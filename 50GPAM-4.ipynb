{
  "nbformat": 4,
  "nbformat_minor": 0,
  "metadata": {
    "colab": {
      "provenance": [],
      "authorship_tag": "ABX9TyP2X7G8/ILF0+RZvsRpGqvY",
      "include_colab_link": true
    },
    "kernelspec": {
      "name": "python3",
      "display_name": "Python 3"
    },
    "language_info": {
      "name": "python"
    }
  },
  "cells": [
    {
      "cell_type": "markdown",
      "metadata": {
        "id": "view-in-github",
        "colab_type": "text"
      },
      "source": [
        "<a href=\"https://colab.research.google.com/github/Sang-rok/Jomossi/blob/main/50GPAM-4.ipynb\" target=\"_parent\"><img src=\"https://colab.research.google.com/assets/colab-badge.svg\" alt=\"Open In Colab\"/></a>"
      ]
    },
    {
      "cell_type": "code",
      "execution_count": 1,
      "metadata": {
        "colab": {
          "base_uri": "https://localhost:8080/"
        },
        "id": "hlf0FQ-OMGKW",
        "outputId": "2a75613a-7d2a-443b-f5f3-76ab4f8a033b"
      },
      "outputs": [
        {
          "output_type": "stream",
          "name": "stdout",
          "text": [
            "Error processing the file: Unknown mat file type, version 49, 49\n"
          ]
        }
      ],
      "source": [
        "# prompt: load \"https://github.com/Sang-rok/Jomossi/blob/main/PAM_4_0km_53.125Baud_160GSa_pn11_opt_0dBm.mat\"\n",
        "\n",
        "import scipy.io as sio\n",
        "import requests\n",
        "import io\n",
        "\n",
        "# Download the .mat file from the URL\n",
        "url = \"https://github.com/Sang-rok/Jomossi/blob/main/PAM_4_0km_53.125Baud_160GSa_pn11_opt_0dBm.mat\"\n",
        "try:\n",
        "  response = requests.get(url)\n",
        "  response.raise_for_status() # Raise an exception for bad status codes (e.g., 404)\n",
        "  mat_data = sio.loadmat(io.BytesIO(response.content))\n",
        "except requests.exceptions.RequestException as e:\n",
        "  print(f\"Error downloading the file: {e}\")\n",
        "except Exception as e:\n",
        "  print(f\"Error processing the file: {e}\")\n",
        "else:\n",
        "  print(\"Successfully loaded .mat file\")\n",
        "  # Now you can work with the loaded data (mat_data)\n",
        "  # e.g., print the keys\n",
        "  print(mat_data.keys())"
      ]
    },
    {
      "cell_type": "code",
      "source": [
        "url = \"https://raw.githubusercontent.com/Sang-rok/Jomossi/main/PAM_4_0km_53.125Baud_160GSa_pn11_opt_0dBm.mat\"\n",
        "\n",
        "try:\n",
        "    response = requests.get(url)\n",
        "    response.raise_for_status()\n",
        "    mat_data = sio.loadmat(io.BytesIO(response.content))\n",
        "except requests.exceptions.RequestException as e:\n",
        "    print(f\"Error downloading the file: {e}\")\n",
        "except Exception as e:\n",
        "    print(f\"Error processing the file: {e}\")\n",
        "else:\n",
        "    print(\"Successfully loaded .mat file\")\n",
        "    print(mat_data.keys())\n",
        ""
      ],
      "metadata": {
        "colab": {
          "base_uri": "https://localhost:8080/"
        },
        "id": "YN7eTYHNM1Xk",
        "outputId": "4aa17c37-1984-4519-d55a-ce24127b328b"
      },
      "execution_count": 2,
      "outputs": [
        {
          "output_type": "stream",
          "name": "stdout",
          "text": [
            "Successfully loaded .mat file\n",
            "dict_keys(['__header__', '__version__', '__globals__', 'Baud', 'Biterr', 'None', 'EDC', 'N', 'Rx_bits', 'Rx_bits_pre', 'Rxsym_deced', 'Rxsym_deced_preDSP', 'SC', 'SR', 'Tx_bits', 'Txsym_deced', 'Waveform', 'Waveform_sync', 'ans', 'bit_BER1', 'bit_BER2', 'cross2', 'data_length', 'data_noise_re', 'data_tx', 'data_tx_re', 'dec_level1', 'dec_level2', 'dec_level21', 'e', 'edges21', 'edges22', 'erridx', 'ffdom', 'histo_data1', 'histo_data2', 'histo_val1', 'histo_val2', 'max_loc', 'mode1_X', 'mode1_X_fil', 'nBERmeasure', 'pnlength', 'pos', 'pxx', 'sym_err', 'wfileind', 'y1', 'y2', 'yout', 'yout_preDSP', '__function_workspace__'])\n"
          ]
        }
      ]
    },
    {
      "cell_type": "code",
      "source": [
        "# prompt: mat_data 의 1000개 샘플을 그래프로 그려줘.\n",
        "\n",
        "import matplotlib.pyplot as plt\n",
        "\n",
        "try:\n",
        "  # Assuming 'mat_data' contains a variable named 'signal' or similar\n",
        "  # Adjust the variable name if necessary based on the actual .mat file contents\n",
        "  signal_data = mat_data['signal']  # Replace 'signal' with the correct key\n",
        "\n",
        "  # Check if the data exists and if it has the correct dimensions\n",
        "  if signal_data is not None and signal_data.ndim > 0 :\n",
        "    # Plot the first 1000 samples\n",
        "    plt.figure(figsize=(10, 6))\n",
        "    plt.plot(signal_data[0, :1000]) # Plot first 1000 samples of first row\n",
        "    plt.title('First 1000 Samples of Signal Data')\n",
        "    plt.xlabel('Sample Number')\n",
        "    plt.ylabel('Signal Value')\n",
        "    plt.grid(True)\n",
        "    plt.show()\n",
        "  else:\n",
        "    print(\"Error: 'signal' variable not found in the .mat file or has incorrect dimensions.\")\n",
        "\n",
        "except KeyError:\n",
        "  print(\"Error: 'signal' key not found in the loaded .mat data.\")\n",
        "except NameError:\n",
        "    print(\"Error: 'mat_data' variable not defined. Make sure the .mat file is loaded successfully.\")\n",
        "except Exception as e:\n",
        "  print(f\"An unexpected error occurred: {e}\")"
      ],
      "metadata": {
        "colab": {
          "base_uri": "https://localhost:8080/"
        },
        "id": "7zYfMZksOXJS",
        "outputId": "8de73fca-b714-410e-8a48-71a42071c25c"
      },
      "execution_count": 3,
      "outputs": [
        {
          "output_type": "stream",
          "name": "stdout",
          "text": [
            "Error: 'signal' key not found in the loaded .mat data.\n"
          ]
        }
      ]
    }
  ]
}